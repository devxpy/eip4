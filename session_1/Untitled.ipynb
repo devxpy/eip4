{
 "cells": [
  {
   "cell_type": "code",
   "execution_count": 1,
   "metadata": {},
   "outputs": [
    {
     "name": "stderr",
     "output_type": "stream",
     "text": [
      "Using TensorFlow backend.\n"
     ]
    }
   ],
   "source": [
    "# https://keras.io/\n",
    "!pip install -q keras\n",
    "import keras"
   ]
  },
  {
   "cell_type": "code",
   "execution_count": 30,
   "metadata": {},
   "outputs": [],
   "source": [
    "import numpy as np\n",
    "\n",
    "from keras.models import Sequential\n",
    "from keras.layers import Conv2D, Flatten, MaxPooling2D, Activation, Dense, Dropout\n",
    "from keras.utils import np_utils\n",
    "\n",
    "from keras.datasets import mnist\n",
    "\n",
    "import matplotlib.pyplot as plt"
   ]
  },
  {
   "cell_type": "code",
   "execution_count": 3,
   "metadata": {},
   "outputs": [],
   "source": [
    "(train_images, train_labels), (test_images, test_labels) = mnist.load_data()"
   ]
  },
  {
   "cell_type": "code",
   "execution_count": 4,
   "metadata": {},
   "outputs": [
    {
     "data": {
      "image/png": "[encoded data removed]",
      "text/plain": [
       "<Figure size 432x288 with 25 Axes>"
      ]
     },
     "metadata": {
      "needs_background": "light"
     },
     "output_type": "display_data"
    }
   ],
   "source": [
    "fig, ax = plt.subplots(nrows=5, ncols=5)\n",
    "fig.tight_layout()\n",
    "for i in range(5):\n",
    "    for j in range(5):\n",
    "        image, label = train_images[i*j], train_labels[i*j]\n",
    "        axi = ax[i, j]\n",
    "        axi.imshow(image)\n",
    "        axi.set_title(str(label))"
   ]
  },
  {
   "cell_type": "code",
   "execution_count": 5,
   "metadata": {
    "scrolled": false
   },
   "outputs": [
    {
     "data": {
      "text/plain": [
       "(28, 28)"
      ]
     },
     "execution_count": 5,
     "metadata": {},
     "output_type": "execute_result"
    }
   ],
   "source": [
    "train_images[0].shape"
   ]
  },
  {
   "cell_type": "code",
   "execution_count": 6,
   "metadata": {},
   "outputs": [
    {
     "data": {
      "text/plain": [
       "(60000, 28, 28)"
      ]
     },
     "execution_count": 6,
     "metadata": {},
     "output_type": "execute_result"
    }
   ],
   "source": [
    "train_images.shape"
   ]
  },
  {
   "cell_type": "code",
   "execution_count": 7,
   "metadata": {},
   "outputs": [
    {
     "data": {
      "text/plain": [
       "(10000, 28, 28)"
      ]
     },
     "execution_count": 7,
     "metadata": {},
     "output_type": "execute_result"
    }
   ],
   "source": [
    "test_images.shape"
   ]
  },
  {
   "cell_type": "code",
   "execution_count": 8,
   "metadata": {},
   "outputs": [],
   "source": [
    "train_images_ = train_images.reshape(train_images.shape[0], 28, 28, 1)\n",
    "test_images_ = test_images.reshape(test_images.shape[0], 28, 28, 1)"
   ]
  },
  {
   "cell_type": "code",
   "execution_count": 9,
   "metadata": {
    "scrolled": false
   },
   "outputs": [],
   "source": [
    "test_labels_ = np_utils.to_categorical(test_labels, 10)\n",
    "train_labels_ = np_utils.to_categorical(train_labels, 10)"
   ]
  },
  {
   "cell_type": "code",
   "execution_count": 10,
   "metadata": {},
   "outputs": [
    {
     "data": {
      "text/plain": [
       "(array([0., 0., 1., 0., 0., 0., 0., 0., 0., 0.], dtype=float32), 2)"
      ]
     },
     "execution_count": 10,
     "metadata": {},
     "output_type": "execute_result"
    }
   ],
   "source": [
    "test_labels_[1], test_labels[1]"
   ]
  },
  {
   "cell_type": "code",
   "execution_count": 11,
   "metadata": {},
   "outputs": [
    {
     "data": {
      "text/plain": [
       "(28, 28, 1)"
      ]
     },
     "execution_count": 11,
     "metadata": {},
     "output_type": "execute_result"
    }
   ],
   "source": [
    "test_images_[0].shape"
   ]
  },
  {
   "cell_type": "code",
   "execution_count": 102,
   "metadata": {
    "scrolled": false
   },
   "outputs": [
    {
     "name": "stdout",
     "output_type": "stream",
     "text": [
      "Model: \"sequential_51\"\n",
      "_________________________________________________________________\n",
      "Layer (type)                 Output Shape              Param #   \n",
      "=================================================================\n",
      "conv2d_177 (Conv2D)          (None, 26, 26, 64)        640       \n",
      "_________________________________________________________________\n",
      "max_pooling2d_79 (MaxPooling (None, 13, 13, 64)        0         \n",
      "_________________________________________________________________\n",
      "conv2d_178 (Conv2D)          (None, 11, 11, 64)        36928     \n",
      "_________________________________________________________________\n",
      "max_pooling2d_80 (MaxPooling (None, 5, 5, 64)          0         \n",
      "_________________________________________________________________\n",
      "conv2d_179 (Conv2D)          (None, 3, 3, 64)          36928     \n",
      "_________________________________________________________________\n",
      "dropout_32 (Dropout)         (None, 3, 3, 64)          0         \n",
      "_________________________________________________________________\n",
      "flatten_41 (Flatten)         (None, 576)               0         \n",
      "_________________________________________________________________\n",
      "dense_67 (Dense)             (None, 256)               147712    \n",
      "_________________________________________________________________\n",
      "dense_68 (Dense)             (None, 10)                2570      \n",
      "=================================================================\n",
      "Total params: 224,778\n",
      "Trainable params: 224,778\n",
      "Non-trainable params: 0\n",
      "_________________________________________________________________\n"
     ]
    }
   ],
   "source": [
    "model = Sequential()\n",
    "\n",
    "model.add(Conv2D(64, 3, activation='relu', input_shape=train_images_[0].shape))\n",
    "model.add(MaxPooling2D())\n",
    "model.add(Conv2D(64, 3, activation='relu'))\n",
    "model.add(MaxPooling2D())\n",
    "model.add(Conv2D(64, 3, activation='relu'))\n",
    "model.add(Dropout(0.2))\n",
    "model.add(Flatten())\n",
    "model.add(Dense(256, activation='relu'))\n",
    "model.add(Dense(10, activation='softmax'))\n",
    "          \n",
    "model.compile(\n",
    "    loss='categorical_crossentropy',\n",
    "    optimizer='adam',\n",
    "    metrics=['accuracy']\n",
    ")\n",
    "model.summary()"
   ]
  },
  {
   "cell_type": "code",
   "execution_count": 103,
   "metadata": {},
   "outputs": [
    {
     "name": "stdout",
     "output_type": "stream",
     "text": [
      "Train on 60000 samples, validate on 10000 samples\n",
      "Epoch 1/12\n",
      "60000/60000 [==============================] - 27s 448us/step - loss: 0.5778 - accuracy: 0.8871 - val_loss: 0.0665 - val_accuracy: 0.9796\n",
      "Epoch 2/12\n",
      "60000/60000 [==============================] - 27s 445us/step - loss: 0.0941 - accuracy: 0.9715 - val_loss: 0.0501 - val_accuracy: 0.9845\n",
      "Epoch 3/12\n",
      "60000/60000 [==============================] - 27s 445us/step - loss: 0.0621 - accuracy: 0.9811 - val_loss: 0.0403 - val_accuracy: 0.9867\n",
      "Epoch 4/12\n",
      "60000/60000 [==============================] - 27s 448us/step - loss: 0.0489 - accuracy: 0.9845 - val_loss: 0.0429 - val_accuracy: 0.9876\n",
      "Epoch 5/12\n",
      "60000/60000 [==============================] - 27s 444us/step - loss: 0.0449 - accuracy: 0.9859 - val_loss: 0.0376 - val_accuracy: 0.9883\n",
      "Epoch 6/12\n",
      "60000/60000 [==============================] - 27s 443us/step - loss: 0.0346 - accuracy: 0.9888 - val_loss: 0.0401 - val_accuracy: 0.9886\n",
      "Epoch 7/12\n",
      "60000/60000 [==============================] - 27s 446us/step - loss: 0.0317 - accuracy: 0.9901 - val_loss: 0.0327 - val_accuracy: 0.9898\n",
      "Epoch 8/12\n",
      "60000/60000 [==============================] - 26s 441us/step - loss: 0.0262 - accuracy: 0.9914 - val_loss: 0.0297 - val_accuracy: 0.9911\n",
      "Epoch 9/12\n",
      "60000/60000 [==============================] - 27s 442us/step - loss: 0.0291 - accuracy: 0.9904 - val_loss: 0.0309 - val_accuracy: 0.9912\n",
      "Epoch 10/12\n",
      "60000/60000 [==============================] - 26s 441us/step - loss: 0.0229 - accuracy: 0.9929 - val_loss: 0.0366 - val_accuracy: 0.9900\n",
      "Epoch 11/12\n",
      "60000/60000 [==============================] - 27s 443us/step - loss: 0.0194 - accuracy: 0.9933 - val_loss: 0.0378 - val_accuracy: 0.9901\n",
      "Epoch 12/12\n",
      "60000/60000 [==============================] - 27s 448us/step - loss: 0.0219 - accuracy: 0.9930 - val_loss: 0.0344 - val_accuracy: 0.9902\n"
     ]
    },
    {
     "data": {
      "text/plain": [
       "<keras.callbacks.callbacks.History at 0x7fd4ad845e48>"
      ]
     },
     "execution_count": 103,
     "metadata": {},
     "output_type": "execute_result"
    }
   ],
   "source": [
    "model.fit(train_images_, train_labels_, batch_size=256, epochs=12, validation_data=(test_images_, test_labels_))"
   ]
  },
  {
   "cell_type": "code",
   "execution_count": 104,
   "metadata": {},
   "outputs": [
    {
     "name": "stdout",
     "output_type": "stream",
     "text": [
      "10000/10000 [==============================] - 1s 148us/step\n"
     ]
    },
    {
     "data": {
      "text/plain": [
       "[0.03444110200128452, 0.9901999831199646]"
      ]
     },
     "execution_count": 104,
     "metadata": {},
     "output_type": "execute_result"
    }
   ],
   "source": [
    "model.evaluate(test_images_, test_labels_)"
   ]
  },
  {
   "cell_type": "code",
   "execution_count": null,
   "metadata": {},
   "outputs": [],
   "source": []
  }
 ],
 "metadata": {
  "kernelspec": {
   "display_name": "Python 3",
   "language": "python",
   "name": "python3"
  },
  "language_info": {
   "codemirror_mode": {
    "name": "ipython",
    "version": 3
   },
   "file_extension": ".py",
   "mimetype": "text/x-python",
   "name": "python",
   "nbconvert_exporter": "python",
   "pygments_lexer": "ipython3",
   "version": "3.7.1"
  }
 },
 "nbformat": 4,
 "nbformat_minor": 2
}
